{
 "cells": [
  {
   "cell_type": "code",
   "execution_count": null,
   "id": "e804d4f0",
   "metadata": {},
   "outputs": [
    {
     "name": "stdout",
     "output_type": "stream",
     "text": [
      "Hello Wordl!\n"
     ]
    }
   ],
   "source": [
    "print(\"Hello Wordl!\")"
   ]
  },
  {
   "cell_type": "code",
   "execution_count": null,
   "id": "4d95e7d9",
   "metadata": {},
   "outputs": [],
   "source": [
    "ten=str(input(\"Nhập tên của bạn: \"))\n",
    "print(\"Xin chào\",ten)"
   ]
  },
  {
   "cell_type": "code",
   "execution_count": null,
   "id": "d2919df0",
   "metadata": {},
   "outputs": [],
   "source": [
    "a = int(input())\n",
    "b = int(input())\n",
    "tong = a + b\n",
    "hieu = a + b\n",
    "tich = a * b\n",
    "thuong = a / b\n",
    "phan_du = a % b\n",
    "phan_nguyen = a // b\n",
    "print(f\"{a}+{b}={tong}\")\n",
    "print(f\"{a}-{b}={hieu}\")\n",
    "print(f\"{a}*{b}={tich}\")\n",
    "print(f\"{a}/{b}={thuong:.2f}\")\n",
    "print(f\"{a}%{b}={phan_du}\")\n",
    "print(f\"{a}//{b}={phan_nguyen}\")"
   ]
  },
  {
   "cell_type": "code",
   "execution_count": null,
   "id": "2fdd9854",
   "metadata": {},
   "outputs": [],
   "source": [
    "nhap = input().split()\n",
    "a1, b1, c1, a2, b2, a3 = map(float, nhap)\n",
    "TB=((a1+b1+c1)+(a2+b2)*2+a3*3)/10\n",
    "print(f\"{TB:.1f}\")"
   ]
  },
  {
   "cell_type": "code",
   "execution_count": null,
   "id": "837482d1",
   "metadata": {},
   "outputs": [],
   "source": [
    "a,b=map(int,input().split())\n",
    "kq=a**b\n",
    "print(kq)"
   ]
  },
  {
   "cell_type": "code",
   "execution_count": null,
   "id": "a036db3e",
   "metadata": {},
   "outputs": [],
   "source": [
    "ky_tu_thuong=input(\" Nhập một kí tự chữ cái thường ‘a’…’z’:\")\n",
    "if len(ky_tu_thuong)==1 and \"a\"<=ky_tu_thuong<=\"z\":\n",
    "    ma_unicode=ord(ky_tu_thuong)\n",
    "    print(f\"Mã Unicode của ký tự '{ky_tu_thuong}' là: {ma_unicode}\")\n",
    "    ky_tu_hoa=chr(ma_unicode-32)\n",
    "    print(f\"Ký tự hoa tương ứng là: '{ky_tu_hoa}'\")\n",
    "    print(f\"Mã Unicode của ký tự '{ky_tu_hoa}' là: {ord(ky_tu_hoa)}\")\n",
    "else:\n",
    "    print(\"Bạn đã nhập sai.Hãy nhập lại một ký tự thường‘a’…’z’!\")"
   ]
  },
  {
   "cell_type": "code",
   "execution_count": null,
   "id": "55fe07a5",
   "metadata": {},
   "outputs": [],
   "source": [
    "A = ((13 ** 2) * 3) + 5 \n",
    "B = 13**2*3 + 5\n",
    "print(f\"A = {A}\")\n",
    "print(f\"B = {B}\")\n",
    "print(f\"A = B: {A == B}\")"
   ]
  },
  {
   "cell_type": "code",
   "execution_count": null,
   "id": "708ec1f4",
   "metadata": {},
   "outputs": [],
   "source": [
    "C=float(input(\"nhập nhiệt độ Celcius:\"))\n",
    "print(f\"nhiệt độ {C:.2f}°C= {(C*9/5)+32:.2f}°F\")"
   ]
  },
  {
   "cell_type": "code",
   "execution_count": null,
   "id": "cfab6cdc",
   "metadata": {},
   "outputs": [],
   "source": [
    "gia=float(input(\"Nhập giá chiếc đồng hồ Movado(USD):\"))\n",
    "tong=gia+10+gia*0.3+gia*0.1\n",
    "print(f\"Tổng số tiền phải trả là: {tong:.2f} USD\")"
   ]
  },
  {
   "cell_type": "code",
   "execution_count": null,
   "id": "5470d2a1",
   "metadata": {},
   "outputs": [],
   "source": [
    "nhap_ten=list(map(str,input(\"Nhập 3 tên người:\").split()))\n",
    "if len(nhap_ten) != 3:\n",
    "    print(\"Vui lòng nhập đúng 3 tên người !\")\n",
    "else:\n",
    "   print(f\"Xin chào {nhap_ten[2]} , {nhap_ten[1]} và {nhap_ten[0]}.!\")"
   ]
  },
  {
   "cell_type": "code",
   "execution_count": null,
   "id": "3d35db91",
   "metadata": {},
   "outputs": [],
   "source": [
    "h=int(input(\"Nhập giờ:\"))\n",
    "m=int(input(\"Nhập phút:\"))\n",
    "giay=h*3600+m*60\n",
    "print(f\"Thời gian đã nhập tương đương {giay} giây\")"
   ]
  },
  {
   "cell_type": "code",
   "execution_count": null,
   "id": "6fa2a9f7",
   "metadata": {},
   "outputs": [],
   "source": [
    "n=int(input(\"Nhập số cạnh của khối Rubik:\"))\n",
    "def tong_mieng_dan(n):\n",
    "    if n<1:\n",
    "        return 0\n",
    "    return 6*n*n\n",
    "print(f\"Khối Rubik {n}*{n} cần {tong_mieng_dan(n)} miếng dán.\")"
   ]
  },
  {
   "cell_type": "code",
   "execution_count": null,
   "id": "f726fea2",
   "metadata": {},
   "outputs": [],
   "source": [
    "a=int(input(\"Nhập số nguyên dương a:\"))\n",
    "b=int(input(\"Nhập số nguyên dương b:\"))\n",
    "if a>0 and b>0:\n",
    "    print(f\"tích cua {a} và {b} là: {(a*b)%10}\")\n",
    "else:\n",
    "    print(\"Bạn đã nhập sai. Hãy nhập lại số nguyên dương!\")"
   ]
  },
  {
   "cell_type": "code",
   "execution_count": null,
   "id": "aef01506",
   "metadata": {},
   "outputs": [],
   "source": [
    "a=float(input(\"Nhập số a:\"))\n",
    "b=float(input(\"Nhập số b:\"))\n",
    "print(f\"Trước khi hoán đổi: a = {a}, b = {b}\")\n",
    "a,b=b,a\n",
    "print(f\"Sau khi hoán đổi: a = {a}, b = {b}\")"
   ]
  },
  {
   "cell_type": "code",
   "execution_count": null,
   "id": "75a11f9b",
   "metadata": {},
   "outputs": [],
   "source": [
    "def tinh_so_sao(n):\n",
    "    if not isinstance(n, int) or n <= 0:\n",
    "        return \"Vui lòng nhập số nguyên dương!\"\n",
    "    so_sao=6*(n-1)*n+1\n",
    "    return so_sao\n",
    "try:\n",
    "    n=int(input(\"Nhập số nguyên dương n:\" ))\n",
    "    ket_qua=tinh_so_sao(n)\n",
    "    if isinstance(n, int) :\n",
    "        print(f\"Số sao thứ {n} là: {ket_qua}\")\n",
    "    else:\n",
    "        print(ket_qua)\n",
    "except ValueError:\n",
    "    print(\"Vui lòng nhập số nguyên dương!\")        "
   ]
  },
  {
   "cell_type": "code",
   "execution_count": null,
   "id": "a12d07c4",
   "metadata": {},
   "outputs": [],
   "source": [
    "season =[\"Spring\", \"Summer\", \"Autumn\", \"Winter\"]\n",
    "for season in season:\n",
    "    print(season)"
   ]
  },
  {
   "cell_type": "code",
   "execution_count": null,
   "id": "28786823",
   "metadata": {},
   "outputs": [],
   "source": [
    "print(\"*\"*1 + \" \"*4)\n",
    "print(\"*\"*3 + \" \"*2)\n",
    "print(\"*\"*5)"
   ]
  },
  {
   "cell_type": "code",
   "execution_count": null,
   "id": "30a66029",
   "metadata": {},
   "outputs": [],
   "source": [
    "T=[\n",
    "    \" ### \",\n",
    "    \"  #  \",\n",
    "    \"  #  \",\n",
    "    \"  #  \",\n",
    "    \"  #  \", \n",
    "]\n",
    "D=[\n",
    "    \" ##  \",\n",
    "    \" # # \",\n",
    "    \" # # \",\n",
    "    \" # # \",\n",
    "    \" ##  \",\n",
    "]\n",
    "for i in range(5):\n",
    "    print(T[i]+\"  \"+D[i]+\"  \"+T[i]+\"  \"+T[i])       "
   ]
  },
  {
   "cell_type": "code",
   "execution_count": null,
   "id": "506e7d63",
   "metadata": {},
   "outputs": [],
   "source": [
    "thu=[\"Monday\", \"Tuesday\", \"Wednesday\", \"Thursday\", \"Friday\", \"Saturday\", \"Sunday\"]\n",
    "for thu in thu:\n",
    "    print(thu)"
   ]
  },
  {
   "cell_type": "code",
   "execution_count": null,
   "id": "fec7c320",
   "metadata": {},
   "outputs": [],
   "source": [
    "thang=[\"January\", \"February\", \"March\", \"April\", \"May\", \"June\", \"July\", \"August\", \"September\", \"October\", \"November\", \"December\"]\n",
    "for thang in thang:\n",
    "    print(thang)"
   ]
  },
  {
   "cell_type": "code",
   "execution_count": null,
   "id": "5c06ce27",
   "metadata": {},
   "outputs": [],
   "source": [
    "for i in range (10):\n",
    "    print(\"Hello,world\")"
   ]
  }
 ],
 "metadata": {
  "kernelspec": {
   "display_name": "Python 3",
   "language": "python",
   "name": "python3"
  },
  "language_info": {
   "codemirror_mode": {
    "name": "ipython",
    "version": 3
   },
   "file_extension": ".py",
   "mimetype": "text/x-python",
   "name": "python",
   "nbconvert_exporter": "python",
   "pygments_lexer": "ipython3",
   "version": "3.11.5"
  }
 },
 "nbformat": 4,
 "nbformat_minor": 5
}
