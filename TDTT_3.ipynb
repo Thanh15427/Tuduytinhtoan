{
 "cells": [
  {
   "cell_type": "code",
   "execution_count": null,
   "id": "861cacd3",
   "metadata": {},
   "outputs": [],
   "source": [
    "n=input()\n",
    "print(n[::-1])"
   ]
  },
  {
   "cell_type": "code",
   "execution_count": null,
   "id": "f2d8b55f",
   "metadata": {},
   "outputs": [],
   "source": [
    "a=int(input())\n",
    "b=int(input())\n",
    "a=a^b\n",
    "b=a^b\n",
    "a=a^b\n",
    "print(a,b)"
   ]
  },
  {
   "cell_type": "code",
   "execution_count": null,
   "id": "0d11cec9",
   "metadata": {},
   "outputs": [],
   "source": [
    "n=int(input())\n",
    "print(n&(n-1)==0)"
   ]
  },
  {
   "cell_type": "code",
   "execution_count": null,
   "id": "a80e619d",
   "metadata": {},
   "outputs": [],
   "source": [
    "m = int(input())\n",
    "n = int(input())\n",
    "print( m // n )"
   ]
  },
  {
   "cell_type": "code",
   "execution_count": null,
   "id": "f60bd4f7",
   "metadata": {},
   "outputs": [],
   "source": [
    "m = int(input())\n",
    "n = int(input())\n",
    "print( (m // n)+1 )"
   ]
  },
  {
   "cell_type": "code",
   "execution_count": null,
   "id": "6921fa4e",
   "metadata": {},
   "outputs": [],
   "source": [
    "n=int(input())\n",
    "if n>0:\n",
    "   if n%2==0:\n",
    "    print(\"Even\")\n",
    "   else:\n",
    "    print(\"Odd\")    \n",
    "else:\n",
    "  print(f\"{n} không phải số  nguyên dương.Hãy nhập lại!\")   "
   ]
  },
  {
   "cell_type": "code",
   "execution_count": null,
   "id": "ca856c5a",
   "metadata": {},
   "outputs": [],
   "source": [
    "a=int(input())\n",
    "b=int(input())\n",
    "if a<0 and b<0 :\n",
    "    print(\"Yes\")\n",
    "else:\n",
    "    print(\"No\")    "
   ]
  },
  {
   "cell_type": "code",
   "execution_count": null,
   "id": "efab872c",
   "metadata": {},
   "outputs": [],
   "source": [
    "a=str(input())\n",
    "b=str(input())\n",
    "if len(a)>len(b):\n",
    "    print(\"True\")\n",
    "else:\n",
    "    print(\"False\")    "
   ]
  },
  {
   "cell_type": "code",
   "execution_count": null,
   "id": "1dd6f8e9",
   "metadata": {},
   "outputs": [],
   "source": [
    "a=int(input())\n",
    "b=int(input())\n",
    "c=int(input())\n",
    "if a>0 and b>0 and c>0 :\n",
    "    if a<b+c and b<a+c and c<a+b:\n",
    "        print(\"Yes\")\n",
    "    else:\n",
    "        print(\"No\")    \n",
    "else:\n",
    "    print(\"No\")       "
   ]
  },
  {
   "cell_type": "code",
   "execution_count": null,
   "id": "3b5faf77",
   "metadata": {},
   "outputs": [],
   "source": [
    "a=int(input())\n",
    "b=int(input())\n",
    "c=int(input())\n",
    "d=int(input())\n",
    "max_nums=max(a,b,c,d)\n",
    "print(max_nums)"
   ]
  },
  {
   "cell_type": "code",
   "execution_count": null,
   "id": "ae443c8a",
   "metadata": {},
   "outputs": [],
   "source": [
    "a,b,c=map(int,input().split())\n",
    "if (a > 0 and b > 0 and c > 0) and (a + b > c) and (a + c > b) and (b + c > a):\n",
    "    if a == b and b == c:\n",
    "       print(\"Tam giác đều\")\n",
    "    elif a == b or a == c or b == c:\n",
    "       print(\"Tam giác cân\")   \n",
    "    else:\n",
    "       print(\"Tam giác thường\")\n",
    "else:\n",
    "    print(\"Không phải tam giác\")"
   ]
  },
  {
   "cell_type": "code",
   "execution_count": null,
   "id": "f122f6b8",
   "metadata": {},
   "outputs": [],
   "source": [
    "n=int(input())\n",
    "if n>0 and (n%4==0 and n%100!=0) or n%400==0: \n",
    "    print(\"Yes\")\n",
    "else:\n",
    "    print('No')  "
   ]
  },
  {
   "cell_type": "code",
   "execution_count": null,
   "id": "c06c4a88",
   "metadata": {},
   "outputs": [],
   "source": [
    "n = int(input())\n",
    "if n>=0:\n",
    "    if  n <=50 :\n",
    "       tien= n*1500\n",
    "    elif 51<= n <=100:\n",
    "       tien= 50*1500 + (n-50)*2000\n",
    "    else:\n",
    "       tien= 50*1500 + 50*2000 + (n-100)*3000\n",
    "    print(tien)   \n",
    "else:\n",
    "   print(\"Nhập số điện dương\")      "
   ]
  },
  {
   "cell_type": "code",
   "execution_count": null,
   "id": "f516a1a8",
   "metadata": {},
   "outputs": [],
   "source": [
    "a=float(input())\n",
    "b=float(input())\n",
    "if a!=0:\n",
    "    nghiem=-b/a\n",
    "    print(f\"{nghiem:.2f}\")\n",
    "else:\n",
    "    if b==0:\n",
    "        print(\"Vô số nghiệm\")    \n",
    "    else:\n",
    "        print(\"Vô nghiệm\")\n"
   ]
  },
  {
   "cell_type": "code",
   "execution_count": null,
   "id": "59f8ebd8",
   "metadata": {},
   "outputs": [],
   "source": [
    "n=float(input())\n",
    "if n<5:\n",
    "    print(\"Yếu\")\n",
    "elif 5<=n<6.5:\n",
    "    print(\"Trung bình\")\n",
    "elif 6.5<=n<8:\n",
    "    print(\"Khá\")\n",
    "else:\n",
    "    print(\"Giỏi\")         "
   ]
  },
  {
   "cell_type": "code",
   "execution_count": null,
   "id": "d25d73ce",
   "metadata": {},
   "outputs": [],
   "source": [
    "so_thuc=float(input())\n",
    "phan_nguyen=int(so_thuc)\n",
    "if so_thuc > 0 and so_thuc != phan_nguyen:\n",
    "    tron_len = phan_nguyen + 1\n",
    "else:\n",
    "    tron_len = phan_nguyen\n",
    "if so_thuc < 0 and so_thuc != phan_nguyen:\n",
    "    tron_xuong = phan_nguyen - 1\n",
    "else:\n",
    "    tron_xuong = phan_nguyen\n",
    "if so_thuc >= 0:\n",
    "    tron_gan_nhat = int(so_thuc + 0.5)\n",
    "else:\n",
    "    tron_gan_nhat = int(so_thuc - 0.5)\n",
    "print(f\"{tron_len} {tron_xuong} {tron_gan_nhat}\")    "
   ]
  }
 ],
 "metadata": {
  "kernelspec": {
   "display_name": "Python 3",
   "language": "python",
   "name": "python3"
  },
  "language_info": {
   "codemirror_mode": {
    "name": "ipython",
    "version": 3
   },
   "file_extension": ".py",
   "mimetype": "text/x-python",
   "name": "python",
   "nbconvert_exporter": "python",
   "pygments_lexer": "ipython3",
   "version": "3.11.5"
  }
 },
 "nbformat": 4,
 "nbformat_minor": 5
}
