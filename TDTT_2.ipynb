{
 "cells": [
  {
   "cell_type": "code",
   "execution_count": null,
   "id": "b98d7a16",
   "metadata": {},
   "outputs": [],
   "source": [
    "n=int(input(\"Nhập số nguyên n:\"))\n",
    "print(f\"Số gấp đôi của {n} là {n*2}\")"
   ]
  },
  {
   "cell_type": "code",
   "execution_count": null,
   "id": "44834a7d",
   "metadata": {},
   "outputs": [],
   "source": [
    "a=float(input(\"Chiều rộng hình chữ nhật:\"))\n",
    "b=float(input(\"Chiều dài hình chữ nhật:\"))\n",
    "Hieu=a*b-(a**2/4)*3.14\n",
    "print(f\"Diện tích còn để trồng cây là:{Hieu:.2f}\")"
   ]
  },
  {
   "cell_type": "code",
   "execution_count": null,
   "id": "047ef3fa",
   "metadata": {},
   "outputs": [],
   "source": [
    "kitu=str(input(\"Nhập kí tự:\"))\n",
    "if ord(kitu) >= ord('A') and ord(kitu) <= ord('Z'):\n",
    "    print(\"Kí tự thường là:\",kitu.lower())\n",
    "else:\n",
    "    print(\"Kí tự hoa là:\",kitu.upper())   "
   ]
  },
  {
   "cell_type": "code",
   "execution_count": null,
   "id": "ca7cd1a7",
   "metadata": {},
   "outputs": [],
   "source": [
    "kitu=input(\"Nhập kí tự:\")\n",
    "if ord(kitu)>=ord('A') and ord(kitu)<=ord('Z') or ord(kitu)>=ord('a') and ord(kitu)<=ord('z'):\n",
    "    print(f\"{kitu} là kí tự alphabet.\")\n",
    "else:\n",
    "    print(f\"{kitu} không phải là kí tự alphabet.\")    "
   ]
  },
  {
   "cell_type": "code",
   "execution_count": null,
   "id": "0bb2d5e6",
   "metadata": {},
   "outputs": [],
   "source": [
    "chuhoa=str(input(\"Nhập kí tự hoa:\"))\n",
    "if len(chuhoa)==1 and 'A'<=chuhoa<='Z':\n",
    "    if chuhoa=='A':\n",
    "        print( \" Đây là trường hợp đặc biệt.Hãy nhập kí tự hoa khác.\")\n",
    "    else:\n",
    "        chuthuong=chuhoa.lower()\n",
    "        ascii=ord(chuthuong)\n",
    "        chu_cai_truoc=chr(ascii-1)\n",
    "        print(f\"Kí tự thường đứng trước {chuthuong} tương ứng với {chuhoa} là: {chu_cai_truoc}\")  \n",
    "else:\n",
    "    print(\"Vui lòng nhập đúng kí tự hoa.\")        \n"
   ]
  },
  {
   "cell_type": "code",
   "execution_count": null,
   "id": "67b21044",
   "metadata": {},
   "outputs": [],
   "source": [
    "a,b,c=map(float,input(\"Nhập độ dài 3 cạnh tam giác:\").split())\n",
    "if a+b>c and a+c>b and b+c>a and a>0 and b>0 and c>0:\n",
    "    p=(a+b+c)/2\n",
    "    S=(p*(p-a)*(p-b)*(p-c))**0.5\n",
    "    print(f\"Diện tích tam giác là:{S:.1f}\")\n",
    "else:\n",
    "    print(\"Không phải là 3 cạnh của tam giác.\")    "
   ]
  },
  {
   "cell_type": "code",
   "execution_count": null,
   "id": "7fe46d16",
   "metadata": {},
   "outputs": [],
   "source": [
    "chuoi_ki_tu=str(input(\"Nhập chuỗi kí tự:\"))\n",
    "if len(chuoi_ki_tu)>=20:\n",
    "    print(f\"Kí tự thứ năm là: {chuoi_ki_tu[4]},kí tự thứ chín là :{chuoi_ki_tu[8]}\")\n",
    "else:\n",
    "    print(\"Chuỗi kí tự không đủ dài.\")    "
   ]
  },
  {
   "cell_type": "code",
   "execution_count": null,
   "id": "5718eb40",
   "metadata": {},
   "outputs": [],
   "source": [
    "import math\n",
    "ten=str(input(\"Tên chủ hộ:\"))\n",
    "thang_truoc=int(input(\"Chỉ số tháng trước:\"))\n",
    "thang_nay=int(input(\"Chỉ số tháng này:\"))\n",
    "if thang_nay>thang_truoc and thang_nay>=0 and thang_truoc>=0:\n",
    "    so_dien=thang_nay-thang_truoc\n",
    "    if so_dien<=50:\n",
    "        tien_dien=so_dien*1984\n",
    "    if 50<so_dien<=100:\n",
    "        tien_dien=50*1984+(so_dien-50)*2050\n",
    "    if 100<so_dien<=200:\n",
    "        tien_dien=50*1984+50*2050+(so_dien-100)*2380\n",
    "    if 200<so_dien<=300:\n",
    "        tien_dien=50*1984+50*2050+100*2380+(so_dien-200)*2998\n",
    "    if 300<so_dien<=400:\n",
    "        tien_dien=50*1984+50*2050+100*2380+100*2998+(so_dien-300)*3350\n",
    "    if so_dien>400:\n",
    "        tien_dien=50*1984+50*2050+100*2380+100*2998+100*3350+(so_dien-400)*3460\n",
    "    tong_tien=tien_dien*1.08\n",
    "    print(\"=\"*40)\n",
    "    print(f\"Họ và tên:{ten}\")  \n",
    "    print(f\"Tiền phải trả là:{math.ceil(tong_tien)} đồng\") \n",
    "else:\n",
    "    print('Chỉ số tháng này phải lớn hơn chỉ số tháng trước ')           "
   ]
  },
  {
   "cell_type": "code",
   "execution_count": null,
   "id": "7844d8ba",
   "metadata": {},
   "outputs": [],
   "source": [
    "n=int(input(\"Nhập số nguyên n:\"))\n",
    "if n%2==0:\n",
    "    print(f\"{n} là số chẵn.\")\n",
    "else :\n",
    "    print(f\"{n} là số lẻ.\")    "
   ]
  },
  {
   "cell_type": "code",
   "execution_count": null,
   "id": "35a1b7b6",
   "metadata": {},
   "outputs": [],
   "source": [
    "n=int(input(\"Nhập số nguyên n:\"))\n",
    "if n%10==5:\n",
    "    print(True)\n",
    "else:\n",
    "    print(False)    "
   ]
  },
  {
   "cell_type": "code",
   "execution_count": null,
   "id": "20c2222c",
   "metadata": {},
   "outputs": [],
   "source": [
    "n=int(input(\"Nhập số nguyên n:\"))\n",
    "if n%15==0:\n",
    "    print(True)\n",
    "else:\n",
    "    print(False)"
   ]
  },
  {
   "cell_type": "code",
   "execution_count": null,
   "id": "cf3124d1",
   "metadata": {},
   "outputs": [],
   "source": [
    "tuoi=int(input(\"Nhập tuổi của bạn:\"))\n",
    "if tuoi>=18:\n",
    "    print(\"Bạn đủ tuổi để tham gia bầu cử.\")\n",
    "else:\n",
    "    print(\"Bạn chưa đủ tuổi để tham gia bầu cử.\")"
   ]
  },
  {
   "cell_type": "code",
   "execution_count": null,
   "id": "57ef57af",
   "metadata": {},
   "outputs": [],
   "source": [
    "a=float(input(\"Nhập số a:\"))\n",
    "b=float(input(\"Nhập số b:\"))\n",
    "if a==b:\n",
    "    print(\"Hai số bằng nhau.\")\n",
    "else:\n",
    "    print(max(a,b))    "
   ]
  },
  {
   "cell_type": "code",
   "execution_count": null,
   "id": "ff36d481",
   "metadata": {},
   "outputs": [],
   "source": [
    "ky_tu=input(\"Nhập ký tự:\")\n",
    "if ky_tu.isalpha():\n",
    "    print(f\"{ky_tu} là ký tự chữ.\")\n",
    "else:    \n",
    "    print(f\"{ky_tu} là ký tự số.\")"
   ]
  },
  {
   "cell_type": "code",
   "execution_count": null,
   "id": "8f4271a7",
   "metadata": {},
   "outputs": [],
   "source": [
    "diem=float(input(\"Nhập điểm :\"))\n",
    "if 0<=diem<5:\n",
    "    print(\"Yếu\")\n",
    "elif 5<=diem<6.5:\n",
    "    print(\"Trung bình\")\n",
    "elif 6.5<=diem<8:\n",
    "    print(\"Khá\")\n",
    "elif 8<=diem<=10:\n",
    "    print(\"Giỏi\")\n",
    "else:\n",
    "    print(\"Điểm không hợp lệ.Vui lòng nhập lại.\")                "
   ]
  },
  {
   "cell_type": "code",
   "execution_count": null,
   "id": "5ecd6bfc",
   "metadata": {},
   "outputs": [],
   "source": [
    "nam=int(input(\"Nhập năm:\"))\n",
    "if (nam%4==0 and nam%100!=0) or (nam%400==0):\n",
    "    print(f\"{nam} là năm nhuận.\")\n",
    "else:\n",
    "    print(f\"{nam} không phải là năm nhuận.\")"
   ]
  },
  {
   "cell_type": "code",
   "execution_count": null,
   "id": "10d36d91",
   "metadata": {},
   "outputs": [],
   "source": [
    "so=int(input(\"Nhập số từ 0 đến 9:\"))\n",
    "ten_chu_so = \"\"\n",
    "match so:\n",
    "    case 0:\n",
    "            ten_chu_so = \"Không\"\n",
    "    case 1:\n",
    "            ten_chu_so = \"Một\"\n",
    "    case 2:\n",
    "            ten_chu_so = \"Hai\"\n",
    "    case 3:\n",
    "            ten_chu_so = \"Ba\"\n",
    "    case 4:\n",
    "            ten_chu_so = \"Bốn\"\n",
    "    case 5:\n",
    "            ten_chu_so = \"Năm\"\n",
    "    case 6:\n",
    "            ten_chu_so = \"Sáu\"\n",
    "    case 7:\n",
    "            ten_chu_so = \"Bảy\"\n",
    "    case 8:\n",
    "            ten_chu_so = \"Tám\"\n",
    "    case 9:\n",
    "            ten_chu_so = \"Chín\"\n",
    "    case _:\n",
    "        ten_chu_so = \"Số không hợp lệ. Vui lòng nhập số từ 0 đến 9.\"\n",
    "print(f\"Số {so} đọc là: '{ten_chu_so}'\")\n",
    "    "
   ]
  },
  {
   "cell_type": "code",
   "execution_count": null,
   "id": "1b7ad3dc",
   "metadata": {},
   "outputs": [],
   "source": [
    "diem=float(input(\"Nhập điểm thi:\"))\n",
    "if 0<=diem<4:\n",
    "    print(\"Học lại\")\n",
    "else:\n",
    "    print(\"Qua môn\")    "
   ]
  },
  {
   "cell_type": "code",
   "execution_count": null,
   "id": "bc953075",
   "metadata": {},
   "outputs": [],
   "source": [
    "tuoi=int(input(\"Nhập năm sinh của bạn:\"))\n",
    "if 2025-tuoi>=18:\n",
    "    print(\"Đủ tuổi\")\n",
    "else:\n",
    "    print(\"Chưa đủ tuổi\")    "
   ]
  }
 ],
 "metadata": {
  "kernelspec": {
   "display_name": "Python 3",
   "language": "python",
   "name": "python3"
  },
  "language_info": {
   "name": "python",
   "version": "3.11.5"
  }
 },
 "nbformat": 4,
 "nbformat_minor": 5
}
